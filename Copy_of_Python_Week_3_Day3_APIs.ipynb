{
  "nbformat": 4,
  "nbformat_minor": 0,
  "metadata": {
    "colab": {
      "name": "Copy of Python_Week 3_Day3_APIs.ipynb",
      "provenance": [],
      "include_colab_link": true
    },
    "kernelspec": {
      "name": "python3",
      "display_name": "Python 3"
    },
    "language_info": {
      "name": "python"
    }
  },
  "cells": [
    {
      "cell_type": "markdown",
      "metadata": {
        "id": "view-in-github",
        "colab_type": "text"
      },
      "source": [
        "<a href=\"https://colab.research.google.com/github/Jopie2016/FORK_ME/blob/main/Copy_of_Python_Week_3_Day3_APIs.ipynb\" target=\"_parent\"><img src=\"https://colab.research.google.com/assets/colab-badge.svg\" alt=\"Open In Colab\"/></a>"
      ]
    },
    {
      "cell_type": "markdown",
      "metadata": {
        "id": "eoTESRL2KBzW"
      },
      "source": [
        "\n",
        "\n",
        "<img src=\"https://i.imgur.com/X9R3e67.png\" style=\"float: left; margin: 20px; height: 55px\">\n",
        "\n",
        "#API's\n",
        "\n",
        "\n",
        "###Learning Objectives\n",
        "\n",
        "By the end of this class we should all be able to answer the following questions:\n",
        "\n",
        "1. What is an API?\n",
        "2. How do I consume one?\n",
        "3. How do I make one? (w/Flask if we have time)"
      ]
    },
    {
      "cell_type": "markdown",
      "metadata": {
        "id": "HefOS1plowOA"
      },
      "source": [
        "Let's get some facts about cats. Using the Cat Facts API. https://catfact.ninja/fact. \n"
      ]
    },
    {
      "cell_type": "code",
      "metadata": {
        "id": "xdFiJY_4onEZ",
        "colab": {
          "base_uri": "https://localhost:8080/"
        },
        "outputId": "7f412215-4a11-4314-c80f-5d716f401dc2"
      },
      "source": [
        "##code here\n",
        "import requests\n",
        "\n",
        "cat_url = \"https://catfact.ninja/fact\"\n",
        "\n",
        "cat_response = requests.get(cat_url)\n",
        "\n",
        "if cat_response.status_code == 200:\n",
        "  #print(meow.json()\n",
        "  print(f\"Your fact of the day is: {response.json()[ 'fact' ]}\")\n"
      ],
      "execution_count": null,
      "outputs": [
        {
          "output_type": "stream",
          "text": [
            "Your fact of the day is: Of all the species of cats, the domestic cat is the only species able to hold its tail vertically while walking. All species of wild cats hold their tail horizontally or tucked between their legs while walking.\n"
          ],
          "name": "stdout"
        }
      ]
    },
    {
      "cell_type": "markdown",
      "metadata": {
        "id": "I0Z0FxAuokfZ"
      },
      "source": [
        "Let's get some weather data from https://api.openweathermap.org/data/2.5/weather? using our own input and present it to a user\n",
        "\n",
        "\n",
        "\n"
      ]
    },
    {
      "cell_type": "markdown",
      "metadata": {
        "id": "_Z86tKMRrlUq"
      },
      "source": [
        ""
      ]
    },
    {
      "cell_type": "code",
      "metadata": {
        "id": "ad8uQZbWe-Wz",
        "colab": {
          "base_uri": "https://localhost:8080/"
        },
        "outputId": "e99a34a7-e20f-4362-9233-efe01dc8d44b"
      },
      "source": [
        "#Code here\n",
        "#api.openweathermap.org/data/2.5/weather?q=miami&appid=8b1841b338819bfe58652f6f74a6bc57\n",
        "import requests\n",
        "\n",
        "api_url = \"https://api.openweathermap.org/data/2.5/weather?q=chicago&appid=8b1841b338819bfe58652f6f74a6bc57\"\n",
        "\n",
        "weather_response = requests.get(api_url)\n",
        "\n",
        "if weather_response.status_code == 200:\n",
        "  print(f\"The weather is: {weather_response.json()}\")\n"
      ],
      "execution_count": 26,
      "outputs": [
        {
          "output_type": "stream",
          "text": [
            "The weather is: {'coord': {'lon': -87.65, 'lat': 41.85}, 'weather': [{'id': 801, 'main': 'Clouds', 'description': 'few clouds', 'icon': '02n'}], 'base': 'stations', 'main': {'temp': 298.86, 'feels_like': 299.39, 'temp_min': 296.5, 'temp_max': 300.38, 'pressure': 1017, 'humidity': 73}, 'visibility': 10000, 'wind': {'speed': 2.24, 'deg': 96, 'gust': 2.68}, 'clouds': {'all': 20}, 'dt': 1629422413, 'sys': {'type': 2, 'id': 2005153, 'country': 'US', 'sunrise': 1629371001, 'sunset': 1629420318}, 'timezone': -18000, 'id': 4887398, 'name': 'Chicago', 'cod': 200}\n"
          ],
          "name": "stdout"
        }
      ]
    },
    {
      "cell_type": "markdown",
      "metadata": {
        "id": "HBdBrtCyuvJh"
      },
      "source": [
        "#Your turn!\n",
        "\n",
        "Find an API here and do something interesting with it: https://apipheny.io/free-api/"
      ]
    },
    {
      "cell_type": "code",
      "metadata": {
        "id": "PhvZ8I7Zut2_",
        "colab": {
          "base_uri": "https://localhost:8080/"
        },
        "outputId": "18065eb6-3693-41ed-899e-c3126c4d1079"
      },
      "source": [
        "## Your code here\n",
        "\n",
        "import requests\n",
        "\n",
        "bored_url = \"https://www.boredapi.com/api/activity\"\n",
        "\n",
        "response = requests.get(bored_url)\n",
        "\n",
        "if response.status_code == 200:\n",
        "  \n",
        "  print(f\"Your random task of the day is: {response.json()[ 'activity' ]}\")\n",
        "\n"
      ],
      "execution_count": 25,
      "outputs": [
        {
          "output_type": "stream",
          "text": [
            "Your random task of the day is: Learn calligraphy\n"
          ],
          "name": "stdout"
        }
      ]
    }
  ]
}